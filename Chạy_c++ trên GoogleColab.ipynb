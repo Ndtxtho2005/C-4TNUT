#include <iostream>

using namespace std;

int main() {
    int a;
    cout << "Nhap vao so nguyen a: ";
    cin >> a;

    if (a % 2 == 0) {
        cout << "So chan" << endl;
    } else {
        cout << "So le" << endl;
    }

    return 0;
}}
